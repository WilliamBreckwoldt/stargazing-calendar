{
 "cells": [
  {
   "cell_type": "code",
   "execution_count": null,
   "id": "e1c2819d",
   "metadata": {},
   "outputs": [],
   "source": [
    "import importlib\n",
    "import main\n",
    "importlib.reload(main)\n",
    "\n",
    "main.stargazing_calendar()"
   ]
  },
  {
   "cell_type": "code",
   "execution_count": null,
   "id": "f1ff66aa",
   "metadata": {},
   "outputs": [],
   "source": [
    "import importlib\n",
    "import locations as loc\n",
    "importlib.reload(loc)\n",
    "\n",
    "loc.create_location_gui()"
   ]
  }
 ],
 "metadata": {
  "kernelspec": {
   "display_name": ".venv",
   "language": "python",
   "name": "python3"
  },
  "language_info": {
   "codemirror_mode": {
    "name": "ipython",
    "version": 3
   },
   "file_extension": ".py",
   "mimetype": "text/x-python",
   "name": "python",
   "nbconvert_exporter": "python",
   "pygments_lexer": "ipython3",
   "version": "3.12.3"
  }
 },
 "nbformat": 4,
 "nbformat_minor": 5
}

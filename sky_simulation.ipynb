{
 "cells": [
  {
   "cell_type": "markdown",
   "id": "bfdfff2c",
   "metadata": {},
   "source": [
    "In the future it may be interesting to use a simulation as described here:\n",
    "- [Simulating the Colors of the Sky](https://www.scratchapixel.com/lessons/procedural-generation-virtual-worlds/simulating-sky/simulating-colors-of-the-sky.html)\n",
    "\n",
    "This would allow us to determine the light in the sky caused by the sun _and moon_, allowing us to determine exactly how dark the sky would be at any given time. Maybe we could add this to a bortle class or to [light pollution info](https://www.lightpollutionmap.info) to determine an effective bortle class and exactly what would be visible in the sky."
   ]
  }
 ],
 "metadata": {
  "language_info": {
   "name": "python"
  }
 },
 "nbformat": 4,
 "nbformat_minor": 5
}
